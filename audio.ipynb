{
 "cells": [
  {
   "cell_type": "code",
   "execution_count": null,
   "id": "8a6bfcf3",
   "metadata": {},
   "outputs": [],
   "source": [
    "!pip install soundfile"
   ]
  },
  {
   "cell_type": "code",
   "execution_count": 7,
   "id": "9025c43b",
   "metadata": {},
   "outputs": [
    {
     "name": "stdout",
     "output_type": "stream",
     "text": [
      "280 audio files processed and saved in the 'C:\\Users\\Oskar\\Downloads\\wav-20230912T033905Z-001\\wav\\edited_audio_files' folder.\n"
     ]
    }
   ],
   "source": [
    "import ipywidgets as widgets\n",
    "from IPython.display import display, clear_output\n",
    "import soundfile as sf\n",
    "import numpy as np\n",
    "import os\n",
    "\n",
    "# Function to remove dead noise from the beginning and end of a multi-channel audio signal\n",
    "def remove_dead_noise(audio, threshold=0.01):\n",
    "    rms = np.sqrt(np.mean(np.square(audio), axis=-1))\n",
    "    start_idx = next((i for i, x in enumerate(rms) if x > threshold), None)\n",
    "    end_idx = next((i for i, x in enumerate(reversed(rms)) if x > threshold), None)\n",
    "    if end_idx is not None:\n",
    "        end_idx = len(rms) - end_idx\n",
    "    return audio[start_idx:end_idx]\n",
    "\n",
    "# Function to handle folder processing\n",
    "def process_folder(_):\n",
    "    folder_path = folder_text.value\n",
    "    \n",
    "    if not os.path.exists(folder_path):\n",
    "        print(\"The specified folder does not exist.\")\n",
    "        return\n",
    "    \n",
    "    # Create a sub-folder to save edited files\n",
    "    output_folder = os.path.join(folder_path, 'edited_audio_files')\n",
    "    if not os.path.exists(output_folder):\n",
    "        os.makedirs(output_folder)\n",
    "    \n",
    "    # Get list of all audio files in the folder\n",
    "    audio_files = [f for f in os.listdir(folder_path) if f.endswith(('.wav', '.flac', '.ogg'))]\n",
    "    \n",
    "    # Initialize progress bar\n",
    "    num_files = len(audio_files)\n",
    "    progress = widgets.IntProgress(value=0, min=0, max=num_files, description='Processing:')\n",
    "    display(progress)\n",
    "    \n",
    "    for i, name in enumerate(audio_files):\n",
    "        file_path = os.path.join(folder_path, name)\n",
    "        \n",
    "        # Read the audio file\n",
    "        audio, samplerate = sf.read(file_path)\n",
    "        \n",
    "        # Process the audio to remove dead noise\n",
    "        edited_audio = remove_dead_noise(audio)\n",
    "        \n",
    "        # Save the edited audio\n",
    "        edited_filename = os.path.join(output_folder, f\"{name}\")\n",
    "        sf.write(edited_filename, edited_audio, samplerate)\n",
    "        \n",
    "        # Update progress bar\n",
    "        progress.value = i + 1\n",
    "    \n",
    "    # Clear progress bar and display completion message\n",
    "    clear_output(wait=True)\n",
    "    print(f\"{num_files} audio files processed and saved in the '{output_folder}' folder.\")\n",
    "\n",
    "# Create a Text widget for folder path input\n",
    "folder_text = widgets.Text(\n",
    "    value='',\n",
    "    placeholder='Enter folder path',\n",
    "    description='Folder:',\n",
    "    disabled=False\n",
    ")\n",
    "\n",
    "# Create a Button widget to trigger processing\n",
    "process_button = widgets.Button(\n",
    "    description='Process Folder',\n",
    "    disabled=False,\n",
    "    button_style='',  # 'success', 'info', 'warning', 'danger' or ''\n",
    "    tooltip='Click to process all audio files in the folder'\n",
    ")\n",
    "\n",
    "# Display the widgets\n",
    "display(folder_text, process_button)\n",
    "\n",
    "# Attach the function to run when the button is clicked\n",
    "process_button.on_click(process_folder)"
   ]
  },
  {
   "cell_type": "code",
   "execution_count": null,
   "id": "031ae5a9",
   "metadata": {},
   "outputs": [],
   "source": []
  }
 ],
 "metadata": {
  "kernelspec": {
   "display_name": "Python 3 (ipykernel)",
   "language": "python",
   "name": "python3"
  },
  "language_info": {
   "codemirror_mode": {
    "name": "ipython",
    "version": 3
   },
   "file_extension": ".py",
   "mimetype": "text/x-python",
   "name": "python",
   "nbconvert_exporter": "python",
   "pygments_lexer": "ipython3",
   "version": "3.11.4"
  }
 },
 "nbformat": 4,
 "nbformat_minor": 5
}
